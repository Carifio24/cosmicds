{
 "cells": [
  {
   "cell_type": "code",
   "execution_count": 1,
   "metadata": {
    "pycharm": {
     "name": "#%%\n"
    },
    "scrolled": false
   },
   "outputs": [
    {
     "name": "stdout",
     "output_type": "stream",
     "text": [
      "Got a message\n",
      "Hist Sync SG\n",
      "Got a message\n",
      "Hist Sync SG\n",
      "Got a message\n",
      "Hist Sync SG\n",
      "Got a message\n",
      "Hist Sync SG\n",
      "Got a message\n",
      "Hist Sync SG\n",
      "Got a message\n",
      "Hist Sync SG\n",
      "Got a message\n",
      "Hist Sync SG\n",
      "Got a message\n",
      "Hist Sync SG\n",
      "Got a message\n",
      "Hist Sync SG\n",
      "Got a message\n",
      "Hist Sync SG\n",
      "Got a message\n",
      "Hist Sync SG\n",
      "Got a message\n",
      "Hist Sync SG\n",
      "Got a message\n",
      "Hist Sync SG\n",
      "Got a message\n",
      "Hist Sync SG\n",
      "Got a message\n",
      "Hist Sync SG\n",
      "Got a message\n",
      "Hist Sync SG\n",
      "Got a message\n",
      "Hist Sync SG\n",
      "Got a message\n",
      "Hist Sync SG\n",
      "Got a message\n",
      "Hist Sync SG\n",
      "Got a message\n",
      "Hist Sync SG\n",
      "Got a message\n",
      "Hist Sync SG\n",
      "Got a message\n",
      "Hist Sync SG\n",
      "Got a message\n",
      "Hist Sync SG\n",
      "Got a message\n",
      "Hist Sync SG\n",
      "Got a message\n",
      "Hist Sync SG\n",
      "Got a message\n",
      "Hist Sync SG\n",
      "Got a message\n",
      "Hist Sync SG\n",
      "Got a message\n",
      "Hist Sync SG\n",
      "Got a message\n",
      "Hist Sync SG\n",
      "Got a message\n",
      "Hist Sync SG\n",
      "Got a message\n",
      "Hist Sync SG\n",
      "Got a message\n",
      "Hist Sync SG\n",
      "Got a message\n",
      "Hist Sync SG\n",
      "Got a message\n",
      "Hist Sync SG\n",
      "Got a message\n",
      "Hist Sync SG\n",
      "Got a message\n",
      "Hist Sync SG\n",
      "Got a message\n",
      "Scatter Sync SG\n",
      "Got a message\n",
      "Scatter Sync SG\n",
      "Got a message\n",
      "Scatter Sync SG\n",
      "Got a message\n",
      "Scatter Sync SG\n",
      "Got a message\n",
      "Scatter Sync SG\n",
      "Got a message\n",
      "Scatter Sync SG\n",
      "Got a message\n",
      "Scatter Sync SG\n",
      "Got a message\n",
      "Scatter Sync SG\n",
      "Got a message\n",
      "Scatter Sync SG\n",
      "Got a message\n",
      "Scatter Sync SG\n",
      "Got a message\n",
      "Scatter Sync SG\n",
      "Got a message\n",
      "Scatter Sync SG\n",
      "Got a message\n",
      "Scatter Sync SG\n",
      "Got a message\n",
      "Scatter Sync SG\n",
      "Got a message\n",
      "Scatter Sync SG\n",
      "Got a message\n",
      "Scatter Sync SG\n",
      "Got a message\n",
      "Scatter Sync SG\n",
      "Got a message\n",
      "Scatter Sync SG\n",
      "Got a message\n",
      "Scatter Sync SG\n",
      "Got a message\n",
      "Scatter Sync SG\n",
      "Got a message\n",
      "Scatter Sync SG\n",
      "Got a message\n",
      "Scatter Sync SG\n",
      "Got a message\n",
      "Scatter Sync SG\n",
      "Got a message\n",
      "Scatter Sync SG\n",
      "Got a message\n",
      "Scatter Sync SG\n",
      "Got a message\n",
      "Scatter Sync SG\n",
      "Got a message\n",
      "Scatter Sync SG\n",
      "Got a message\n",
      "Scatter Sync SG\n",
      "Got a message\n",
      "Scatter Sync SG\n",
      "Got a message\n",
      "Scatter Sync SG\n",
      "Got a message\n",
      "Scatter Sync SG\n",
      "Got a message\n",
      "Scatter Sync SG\n",
      "Got a message\n",
      "Scatter Sync SG\n",
      "Got a message\n",
      "Scatter Sync SG\n",
      "Got a message\n",
      "Scatter Sync SG\n",
      "Got a message\n",
      "Scatter Sync SG\n"
     ]
    },
    {
     "data": {
      "application/vnd.jupyter.widget-view+json": {
       "model_id": "4668dbd2ede04e129ebb62652225550f",
       "version_major": 2,
       "version_minor": 0
      },
      "text/plain": [
       "Application(events=['components'], story_state=<HubblesLaw\n",
       "  calculations: <CallbackDict with 6 elements>\n",
       "  cl…"
      ]
     },
     "metadata": {},
     "output_type": "display_data"
    },
    {
     "name": "stderr",
     "output_type": "stream",
     "text": [
      "/home/jon/dev/CosmicDS/migration-pt-2/cosmicds/stories/hubbles_law/components/selection_tool/selection_tool.py:67: FutureWarning: The frame.append method is deprecated and will be removed from pandas in a future version. Use pandas.concat instead.\n",
      "  self.selected_data = self.selected_data.append(galaxy, ignore_index=True)\n",
      "/home/jon/dev/CosmicDS/migration-pt-2/cosmicds/stories/hubbles_law/stages/stage_one.py:159: FutureWarning: elementwise comparison failed; returning scalar instead, but in the future will perform elementwise comparison\n",
      "  already_present = galaxy['ID'] in data['ID'] # Avoid duplicates\n",
      "/home/jon/dev/CosmicDS/migration-pt-2/cosmicds/stories/hubbles_law/components/selection_tool/selection_tool.py:67: FutureWarning: The frame.append method is deprecated and will be removed from pandas in a future version. Use pandas.concat instead.\n",
      "  self.selected_data = self.selected_data.append(galaxy, ignore_index=True)\n",
      "/home/jon/dev/CosmicDS/migration-pt-2/cosmicds/stories/hubbles_law/components/selection_tool/selection_tool.py:67: FutureWarning: The frame.append method is deprecated and will be removed from pandas in a future version. Use pandas.concat instead.\n",
      "  self.selected_data = self.selected_data.append(galaxy, ignore_index=True)\n",
      "/home/jon/dev/CosmicDS/migration-pt-2/cosmicds/stories/hubbles_law/components/selection_tool/selection_tool.py:67: FutureWarning: The frame.append method is deprecated and will be removed from pandas in a future version. Use pandas.concat instead.\n",
      "  self.selected_data = self.selected_data.append(galaxy, ignore_index=True)\n",
      "/home/jon/dev/CosmicDS/migration-pt-2/cosmicds/stories/hubbles_law/components/selection_tool/selection_tool.py:67: FutureWarning: The frame.append method is deprecated and will be removed from pandas in a future version. Use pandas.concat instead.\n",
      "  self.selected_data = self.selected_data.append(galaxy, ignore_index=True)\n"
     ]
    },
    {
     "name": "stdout",
     "output_type": "stream",
     "text": [
      "<class 'cosmicds.stories.hubbles_law.viewers.spectrum_view.SpectrumViewLayerArtist'>\n",
      "SpectrumViewLayerArtist for selected\n"
     ]
    }
   ],
   "source": [
    "from cosmicds.app import Application\n",
    "from warnings import filterwarnings\n",
    "\n",
    "filterwarnings(action=\"ignore\", category=UserWarning)\n",
    "\n",
    "app = Application(story='hubbles_law')\n",
    "app"
   ]
  },
  {
   "cell_type": "code",
   "execution_count": 2,
   "metadata": {},
   "outputs": [
    {
     "name": "stdout",
     "output_type": "stream",
     "text": [
      "[0]\n",
      "[0]\n"
     ]
    }
   ],
   "source": [
    "student_data = app.data_collection['student_data']\n",
    "print(student_data['distance'])\n",
    "print(student_data['velocity'])"
   ]
  },
  {
   "cell_type": "code",
   "execution_count": null,
   "metadata": {},
   "outputs": [],
   "source": []
  },
  {
   "cell_type": "code",
   "execution_count": null,
   "metadata": {},
   "outputs": [],
   "source": []
  },
  {
   "cell_type": "code",
   "execution_count": null,
   "metadata": {},
   "outputs": [],
   "source": []
  }
 ],
 "metadata": {
  "interpreter": {
   "hash": "9135a59f2b6bc37e899a88e2ebe01548838ca5623932be13039ab85d3fb056ba"
  },
  "kernelspec": {
   "display_name": "cds-migration-pt-2",
   "language": "python",
   "name": "cds-migration-pt-2"
  },
  "language_info": {
   "codemirror_mode": {
    "name": "ipython",
    "version": 3
   },
   "file_extension": ".py",
   "mimetype": "text/x-python",
   "name": "python",
   "nbconvert_exporter": "python",
   "pygments_lexer": "ipython3",
   "version": "3.9.7"
  }
 },
 "nbformat": 4,
 "nbformat_minor": 2
}
