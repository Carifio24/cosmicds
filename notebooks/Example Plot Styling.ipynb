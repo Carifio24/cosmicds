{
 "cells": [
  {
   "cell_type": "code",
   "execution_count": 70,
   "id": "479b2d4d",
   "metadata": {
    "scrolled": false
   },
   "outputs": [
    {
     "data": {
      "application/vnd.jupyter.widget-view+json": {
       "model_id": "5e3c802cb6b94714815f40db5263a893",
       "version_major": 2,
       "version_minor": 0
      },
      "text/plain": [
       "LayoutWidget(controls={'toolbar_selection_tools': BasicJupyterToolbar(tools_data={'bqplot:home': {'tooltip': '…"
      ]
     },
     "metadata": {},
     "output_type": "display_data"
    }
   ],
   "source": [
    "import numpy as np\n",
    "from glue_jupyter.bqplot.scatter import BqplotScatterView\n",
    "from glue_jupyter import JupyterApplication\n",
    "from glue.core import Data\n",
    "\n",
    "app = JupyterApplication()\n",
    "\n",
    "# Setup some random data\n",
    "def add_random_data():\n",
    "    rand_data = Data(distance=np.random.sample(10) * 2e6,\n",
    "                     velocity=np.random.sample(10) * 1000,\n",
    "                     label='random_data' + str(len(app.data_collection)))\n",
    "    app.data_collection.append(rand_data)\n",
    "    \n",
    "add_random_data()\n",
    "add_random_data()\n",
    "\n",
    "# For different data sets to be shown on the same figure, their respective\n",
    "# data components have to be linked.\n",
    "app.add_link(app.data_collection[0], 'distance', app.data_collection[1], 'distance')\n",
    "app.add_link(app.data_collection[0], 'velocity', app.data_collection[1], 'velocity')\n",
    "\n",
    "# This would be equivalent to the items in `app.viewers`\n",
    "viewer = app.new_data_viewer(\n",
    "    BqplotScatterView,\n",
    "    show=True)\n",
    "\n",
    "viewer.add_data('random_data0')\n",
    "viewer.add_data('random_data1')\n",
    "\n",
    "figure = viewer.figure_widget"
   ]
  },
  {
   "cell_type": "code",
   "execution_count": 82,
   "id": "a1d173ff",
   "metadata": {},
   "outputs": [],
   "source": [
    "figure.background_style = {'fill': '#ccc'}\n",
    "figure.fig_margin = {'left': 100, 'bottom': 60, 'top': 10, 'right': 10}\n",
    "\n",
    "# x axis\n",
    "figure.axes[0].grid_color = '#FF5733'\n",
    "figure.axes[0].tick_style = {'font-family': \"Courier New\"}\n",
    "\n",
    "# y axis\n",
    "figure.axes[1].tick_format = '1.2e'\n",
    "figure.axes[1].tick_style = {'font-family': \"Times New Roman\",\n",
    "                             'font-size': 18}\n",
    "figure.axes[1].label_offset = '75px'\n",
    "figure.axes[1].grid_lines = 'solid'\n",
    "figure.axes[1].label_style = {'font-family': \"Times New Roman\"}\n",
    "\n",
    "# marker style\n",
    "figure.axes[1].tick_values"
   ]
  },
  {
   "cell_type": "code",
   "execution_count": null,
   "id": "ac8dd43c",
   "metadata": {},
   "outputs": [],
   "source": []
  }
 ],
 "metadata": {
  "kernelspec": {
   "display_name": "Python 3 (ipykernel)",
   "language": "python",
   "name": "python3"
  },
  "language_info": {
   "codemirror_mode": {
    "name": "ipython",
    "version": 3
   },
   "file_extension": ".py",
   "mimetype": "text/x-python",
   "name": "python",
   "nbconvert_exporter": "python",
   "pygments_lexer": "ipython3",
   "version": "3.9.1"
  }
 },
 "nbformat": 4,
 "nbformat_minor": 5
}
