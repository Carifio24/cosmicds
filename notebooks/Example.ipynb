{
 "cells": [
  {
   "cell_type": "code",
   "execution_count": 1,
   "metadata": {
    "pycharm": {
     "name": "#%%\n"
    },
    "scrolled": false
   },
   "outputs": [
    {
     "data": {
      "application/vnd.jupyter.widget-view+json": {
       "model_id": "9ce70a4edca0426bb2ddf1606e3c83bc",
       "version_major": 2,
       "version_minor": 0
      },
      "text/plain": [
       "Application(story_state=<HubblesLaw\n",
       "  calculations: <CallbackDict with 6 elements>\n",
       "  class_id: None\n",
       "  measurem…"
      ]
     },
     "metadata": {},
     "output_type": "display_data"
    },
    {
     "name": "stdout",
     "output_type": "stream",
     "text": [
      "<CallbackDict with 2 elements>\n"
     ]
    }
   ],
   "source": [
    "from cosmicds.app import Application\n",
    "\n",
    "app = Application(story='hubbles_law')\n",
    "app"
   ]
  },
  {
   "cell_type": "code",
   "execution_count": null,
   "metadata": {},
   "outputs": [],
   "source": []
  }
 ],
 "metadata": {
  "interpreter": {
   "hash": "9135a59f2b6bc37e899a88e2ebe01548838ca5623932be13039ab85d3fb056ba"
  },
  "kernelspec": {
   "display_name": "Python 3 (ipykernel)",
   "language": "python",
   "name": "python3"
  },
  "language_info": {
   "codemirror_mode": {
    "name": "ipython",
    "version": 3
   },
   "file_extension": ".py",
   "mimetype": "text/x-python",
   "name": "python",
   "nbconvert_exporter": "python",
   "pygments_lexer": "ipython3",
   "version": "3.8.12"
  }
 },
 "nbformat": 4,
 "nbformat_minor": 2
}