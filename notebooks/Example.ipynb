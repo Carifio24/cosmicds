{
 "cells": [
  {
   "cell_type": "code",
   "execution_count": 1,
   "metadata": {},
   "outputs": [
    {
     "name": "stderr",
     "output_type": "stream",
     "text": [
      "/Users/nmearl/.pyenv/versions/3.9.1/envs/cosmicds/lib/python3.9/site-packages/glue/external/echo/__init__.py:3: UserWarning: glue.external.echo is deprecated, import from echo directly instead\n",
      "  warnings.warn('glue.external.echo is deprecated, import from echo directly instead')\n"
     ]
    },
    {
     "name": "stdout",
     "output_type": "stream",
     "text": [
      "{1: <class 'cosmicds.stories.hubbles_law.stage_one.stage_one.StageOne'>, 2: <class 'cosmicds.stories.hubbles_law.stage_two.stage_two.StageTwo'>}\n"
     ]
    },
    {
     "data": {
      "application/vnd.jupyter.widget-view+json": {
       "model_id": "e2400945a6594f0980268c33ba04944e",
       "version_major": 2,
       "version_minor": 0
      },
      "text/plain": [
       "Application(stages={'c-stage-1': StageOne(), 'c-stage-2': StageTwo()}, state=<ApplicationState\n",
       "  drawer: True\n",
       "…"
      ]
     },
     "metadata": {},
     "output_type": "display_data"
    }
   ],
   "source": [
    "from cosmicds.app import Application\n",
    "\n",
    "app = Application(story='hubbles_law')\n",
    "app"
   ]
  }
 ],
 "metadata": {
  "interpreter": {
   "hash": "9135a59f2b6bc37e899a88e2ebe01548838ca5623932be13039ab85d3fb056ba"
  },
  "kernelspec": {
   "display_name": "Python 3 (ipykernel)",
   "language": "python",
   "name": "python3"
  },
  "language_info": {
   "codemirror_mode": {
    "name": "ipython",
    "version": 3
   },
   "file_extension": ".py",
   "mimetype": "text/x-python",
   "name": "python",
   "nbconvert_exporter": "python",
   "pygments_lexer": "ipython3",
   "version": "3.9.1"
  }
 },
 "nbformat": 4,
 "nbformat_minor": 2
}
