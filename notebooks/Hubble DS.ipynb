{
 "cells": [
  {
   "cell_type": "code",
   "execution_count": 1,
   "id": "c13b31e0",
   "metadata": {
    "scrolled": false
   },
   "outputs": [
    {
     "name": "stderr",
     "output_type": "stream",
     "text": [
      "/Users/nmearl/.pyenv/versions/3.8.9/envs/cosmic-ds/lib/python3.8/site-packages/setuptools/distutils_patch.py:25: UserWarning: Distutils was imported before Setuptools. This usage is discouraged and may exhibit undesirable behaviors or errors. Please use Setuptools' objects directly or at least import Setuptools first.\n",
      "  warnings.warn(\n",
      "/Users/nmearl/.pyenv/versions/3.8.9/envs/cosmic-ds/lib/python3.8/site-packages/glue/external/echo/__init__.py:3: UserWarning: glue.external.echo is deprecated, import from echo directly instead\n",
      "  warnings.warn('glue.external.echo is deprecated, import from echo directly instead')\n",
      "WARNING: Could not load OpenGL library.\n",
      "WARNING:vispy:Could not load OpenGL library.\n"
     ]
    },
    {
     "data": {
      "application/vnd.jupyter.widget-view+json": {
       "model_id": "aa50baacae444c8c87e74d78804d3fed",
       "version_major": 2,
       "version_minor": 0
      },
      "text/plain": [
       "Application(events=['add_data_to_viewer'], state=<ApplicationState\n",
       "  col_tab_model: 0\n",
       "  est_model: 0\n",
       "  over_mo…"
      ]
     },
     "metadata": {},
     "output_type": "display_data"
    }
   ],
   "source": [
    "from cosmic_ds.app import Application\n",
    "\n",
    "\n",
    "app = Application()\n",
    "app"
   ]
  }
 ],
 "metadata": {
  "kernelspec": {
   "display_name": "Python 3",
   "language": "python",
   "name": "python3"
  },
  "language_info": {
   "codemirror_mode": {
    "name": "ipython",
    "version": 3
   },
   "file_extension": ".py",
   "mimetype": "text/x-python",
   "name": "python",
   "nbconvert_exporter": "python",
   "pygments_lexer": "ipython3",
   "version": "3.8.9"
  }
 },
 "nbformat": 4,
 "nbformat_minor": 5
}
