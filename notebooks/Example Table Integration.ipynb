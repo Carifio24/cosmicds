{
 "cells": [
  {
   "cell_type": "code",
   "execution_count": 1,
   "id": "5e83918d",
   "metadata": {},
   "outputs": [
    {
     "name": "stderr",
     "output_type": "stream",
     "text": [
      "/Users/nmearl/.pyenv/versions/3.9.1/envs/cosmicds/lib/python3.9/site-packages/glue/external/echo/__init__.py:3: UserWarning: glue.external.echo is deprecated, import from echo directly instead\n",
      "  warnings.warn('glue.external.echo is deprecated, import from echo directly instead')\n"
     ]
    },
    {
     "data": {
      "application/vnd.jupyter.widget-view+json": {
       "model_id": "f11a5140e75e41a7bf7aba624e39c37e",
       "version_major": 2,
       "version_minor": 0
      },
      "text/plain": [
       "LayoutWidget(controls={'toolbar_selection_tools': BasicJupyterToolbar(tools_data={'bqplot:home': {'tooltip': '…"
      ]
     },
     "metadata": {},
     "output_type": "display_data"
    }
   ],
   "source": [
    "import numpy as np\n",
    "from glue_jupyter.bqplot.scatter import BqplotScatterView\n",
    "from glue_jupyter.table import TableViewer\n",
    "from glue_jupyter import JupyterApplication\n",
    "from glue.core import Data\n",
    "\n",
    "app = JupyterApplication()\n",
    "\n",
    "# Setup some random data\n",
    "def add_random_data():\n",
    "    dist = np.random.sample(100) * 2e6\n",
    "    vel = np.random.sample(100) * 1000\n",
    "    rand_data = Data(distance=dist,\n",
    "                     velocity=vel,\n",
    "                     class_id=[np.random.randint(0, 3) for _ in range(100)],\n",
    "                     student_id=np.arange(100) + 1,\n",
    "                     galaxy_type=[['spiral', 'elliptical', 'irregular'][np.random.randint(0, 3)] for _ in range(100)],\n",
    "                     label='random_data' + str(len(app.data_collection)))\n",
    "    app.data_collection.append(rand_data)\n",
    "    \n",
    "add_random_data()\n",
    "\n",
    "# This would be equivalent to the items in `app._viewer_handlers`\n",
    "viewer = app.new_data_viewer(\n",
    "    BqplotScatterView,\n",
    "    show=True)\n",
    "\n",
    "viewer.add_data('random_data0')\n",
    "\n",
    "data = app.data_collection[0]\n",
    "viewer.state.x_att = data.id['distance']\n",
    "viewer.state.y_att = data.id['velocity']"
   ]
  },
  {
   "cell_type": "code",
   "execution_count": 2,
   "id": "0eb6433e",
   "metadata": {},
   "outputs": [
    {
     "data": {
      "application/vnd.jupyter.widget-view+json": {
       "model_id": "5c024e4c3fe746b4b5fe390f537b4a13",
       "version_major": 2,
       "version_minor": 0
      },
      "text/plain": [
       "LayoutWidget(controls={'toolbar_selection_tools': BasicJupyterToolbar(), 'toolbar_selection_mode': SelectionMo…"
      ]
     },
     "metadata": {},
     "output_type": "display_data"
    },
    {
     "data": {
      "text/plain": [
       "True"
      ]
     },
     "execution_count": 2,
     "metadata": {},
     "output_type": "execute_result"
    }
   ],
   "source": [
    "viewer = app.new_data_viewer(\n",
    "    TableViewer,\n",
    "    show=True)\n",
    "\n",
    "viewer.add_data('random_data0')"
   ]
  },
  {
   "cell_type": "code",
   "execution_count": 3,
   "id": "a82ae55c",
   "metadata": {},
   "outputs": [],
   "source": [
    "from cosmicds.components.table import Table"
   ]
  },
  {
   "cell_type": "code",
   "execution_count": 4,
   "id": "b5186ae3",
   "metadata": {},
   "outputs": [],
   "source": [
    "tab = Table(session=app.session)"
   ]
  },
  {
   "cell_type": "code",
   "execution_count": 5,
   "id": "dea0983c",
   "metadata": {
    "scrolled": false
   },
   "outputs": [
    {
     "data": {
      "application/vnd.jupyter.widget-view+json": {
       "model_id": "9fccf939be7b41aaadeb083716148d6e",
       "version_major": 2,
       "version_minor": 0
      },
      "text/plain": [
       "Table(headers=[{'text': 'Student ID', 'value': 'student_id', 'align': 'start'}, {'text': 'Distance', 'value': …"
      ]
     },
     "metadata": {},
     "output_type": "display_data"
    }
   ],
   "source": [
    "tab"
   ]
  },
  {
   "cell_type": "code",
   "execution_count": 6,
   "id": "4adbf145",
   "metadata": {},
   "outputs": [],
   "source": [
    "# data = app.data_collection['random_data0']\n",
    "# state = np.bitwise_or.reduce([data.id['student_id'] == x for x in [1, 4, 5]]) # & (data.id['student_id'] < 2)\n",
    "# # state.to_mask(data)\n",
    "# subset_group = app.data_collection.new_subset_group(\"selected\", state)"
   ]
  },
  {
   "cell_type": "code",
   "execution_count": 7,
   "id": "5bcac9e5",
   "metadata": {},
   "outputs": [],
   "source": [
    "# state.to_mask(data)"
   ]
  },
  {
   "cell_type": "code",
   "execution_count": null,
   "id": "dbb80977",
   "metadata": {},
   "outputs": [],
   "source": []
  }
 ],
 "metadata": {
  "kernelspec": {
   "display_name": "Python 3 (ipykernel)",
   "language": "python",
   "name": "python3"
  },
  "language_info": {
   "codemirror_mode": {
    "name": "ipython",
    "version": 3
   },
   "file_extension": ".py",
   "mimetype": "text/x-python",
   "name": "python",
   "nbconvert_exporter": "python",
   "pygments_lexer": "ipython3",
   "version": "3.9.1"
  }
 },
 "nbformat": 4,
 "nbformat_minor": 5
}
