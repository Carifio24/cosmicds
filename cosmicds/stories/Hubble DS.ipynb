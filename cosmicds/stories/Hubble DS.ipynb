{
 "cells": [
  {
   "cell_type": "code",
   "execution_count": 3,
   "id": "0ade1695",
   "metadata": {},
   "outputs": [
    {
     "name": "stdout",
     "output_type": "stream",
     "text": [
      "[0]\n"
     ]
    },
    {
     "data": {
      "application/vnd.jupyter.widget-view+json": {
       "model_id": "028ac1ceaf704947a6caddbe7e5b23c3",
       "version_major": 2,
       "version_minor": 0
      },
      "text/plain": [
       "Application(components={'c-footer': Footer()}, events=['add_data_to_viewers', 'clear_histogram_selection', 'cl…"
      ]
     },
     "metadata": {},
     "output_type": "display_data"
    }
   ],
   "source": [
    "from cosmicds.app import Application\n",
    "\n",
    "\n",
    "app = Application()\n",
    "app"
   ]
  },
  {
   "cell_type": "code",
   "execution_count": 2,
   "id": "75a76de3",
   "metadata": {},
   "outputs": [],
   "source": [
    "# to reload app.vue file without recompiling everything\n",
    "app.reload()"
   ]
  },
  {
   "cell_type": "code",
   "execution_count": null,
   "id": "fe3b11dc-e2df-41ae-b8cf-cb34d9861958",
   "metadata": {},
   "outputs": [],
   "source": []
  }
 ],
 "metadata": {
  "kernelspec": {
   "display_name": "Python 3",
   "language": "python",
   "name": "python3"
  },
  "language_info": {
   "codemirror_mode": {
    "name": "ipython",
    "version": 3
   },
   "file_extension": ".py",
   "mimetype": "text/x-python",
   "name": "python",
   "nbconvert_exporter": "python",
   "pygments_lexer": "ipython3",
   "version": "3.8.8"
  }
 },
 "nbformat": 4,
 "nbformat_minor": 5
}
