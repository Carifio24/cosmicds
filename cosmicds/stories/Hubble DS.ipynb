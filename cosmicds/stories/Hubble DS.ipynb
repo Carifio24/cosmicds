{
 "cells": [
  {
   "cell_type": "code",
   "execution_count": 1,
   "id": "0ade1695",
   "metadata": {
    "scrolled": false
   },
   "outputs": [
    {
     "name": "stderr",
     "output_type": "stream",
     "text": [
      "/opt/anaconda3/lib/python3.8/site-packages/glue/external/echo/__init__.py:3: UserWarning: glue.external.echo is deprecated, import from echo directly instead\n",
      "  warnings.warn('glue.external.echo is deprecated, import from echo directly instead')\n"
     ]
    },
    {
     "data": {
      "application/vnd.jupyter.widget-view+json": {
       "model_id": "7fe3e90aa2f5492f965e70e8da0c9449",
       "version_major": 2,
       "version_minor": 0
      },
      "text/plain": [
       "Application(components={'c-footer': Footer(), 'c-galaxy-table': Table(events=['handle_row_click'], headers=[{'…"
      ]
     },
     "metadata": {},
     "output_type": "display_data"
    },
    {
     "name": "stderr",
     "output_type": "stream",
     "text": [
      "/opt/anaconda3/lib/python3.8/site-packages/glue/core/data_factories/fits.py:152: UserWarning: Dropping column 'OBJID' since it is not 1-dimensional\n",
      "  warnings.warn(\"Dropping column '{0}' since it is not 1-dimensional\".format(column_name))\n",
      "/opt/anaconda3/lib/python3.8/site-packages/glue/core/data_factories/fits.py:152: UserWarning: Dropping column 'TCOLUMN' since it is not 1-dimensional\n",
      "  warnings.warn(\"Dropping column '{0}' since it is not 1-dimensional\".format(column_name))\n",
      "/opt/anaconda3/lib/python3.8/site-packages/glue/core/data_factories/fits.py:152: UserWarning: Dropping column 'THETA' since it is not 1-dimensional\n",
      "  warnings.warn(\"Dropping column '{0}' since it is not 1-dimensional\".format(column_name))\n",
      "/opt/anaconda3/lib/python3.8/site-packages/glue/core/data_factories/fits.py:152: UserWarning: Dropping column 'SN_MEDIAN' since it is not 1-dimensional\n",
      "  warnings.warn(\"Dropping column '{0}' since it is not 1-dimensional\".format(column_name))\n",
      "/opt/anaconda3/lib/python3.8/site-packages/glue/core/data_factories/fits.py:152: UserWarning: Dropping column 'FRACNSIGMA' since it is not 1-dimensional\n",
      "  warnings.warn(\"Dropping column '{0}' since it is not 1-dimensional\".format(column_name))\n",
      "/opt/anaconda3/lib/python3.8/site-packages/glue/core/data_factories/fits.py:152: UserWarning: Dropping column 'FRACNSIGHI' since it is not 1-dimensional\n",
      "  warnings.warn(\"Dropping column '{0}' since it is not 1-dimensional\".format(column_name))\n",
      "/opt/anaconda3/lib/python3.8/site-packages/glue/core/data_factories/fits.py:152: UserWarning: Dropping column 'FRACNSIGLO' since it is not 1-dimensional\n",
      "  warnings.warn(\"Dropping column '{0}' since it is not 1-dimensional\".format(column_name))\n",
      "/opt/anaconda3/lib/python3.8/site-packages/glue/core/data_factories/fits.py:152: UserWarning: Dropping column 'SPECTROFLUX' since it is not 1-dimensional\n",
      "  warnings.warn(\"Dropping column '{0}' since it is not 1-dimensional\".format(column_name))\n",
      "/opt/anaconda3/lib/python3.8/site-packages/glue/core/data_factories/fits.py:152: UserWarning: Dropping column 'SPECTROFLUX_IVAR' since it is not 1-dimensional\n",
      "  warnings.warn(\"Dropping column '{0}' since it is not 1-dimensional\".format(column_name))\n",
      "/opt/anaconda3/lib/python3.8/site-packages/glue/core/data_factories/fits.py:152: UserWarning: Dropping column 'SPECTROSYNFLUX' since it is not 1-dimensional\n",
      "  warnings.warn(\"Dropping column '{0}' since it is not 1-dimensional\".format(column_name))\n",
      "/opt/anaconda3/lib/python3.8/site-packages/glue/core/data_factories/fits.py:152: UserWarning: Dropping column 'SPECTROSYNFLUX_IVAR' since it is not 1-dimensional\n",
      "  warnings.warn(\"Dropping column '{0}' since it is not 1-dimensional\".format(column_name))\n",
      "/opt/anaconda3/lib/python3.8/site-packages/glue/core/data_factories/fits.py:152: UserWarning: Dropping column 'SPECTROSKYFLUX' since it is not 1-dimensional\n",
      "  warnings.warn(\"Dropping column '{0}' since it is not 1-dimensional\".format(column_name))\n",
      "/opt/anaconda3/lib/python3.8/site-packages/glue/core/data_factories/fits.py:152: UserWarning: Dropping column 'CALIBFLUX' since it is not 1-dimensional\n",
      "  warnings.warn(\"Dropping column '{0}' since it is not 1-dimensional\".format(column_name))\n",
      "/opt/anaconda3/lib/python3.8/site-packages/glue/core/data_factories/fits.py:152: UserWarning: Dropping column 'CALIBFLUX_IVAR' since it is not 1-dimensional\n",
      "  warnings.warn(\"Dropping column '{0}' since it is not 1-dimensional\".format(column_name))\n",
      "/opt/anaconda3/lib/python3.8/site-packages/glue/core/data_factories/fits.py:152: UserWarning: Dropping column 'OBJID' since it is not 1-dimensional\n",
      "  warnings.warn(\"Dropping column '{0}' since it is not 1-dimensional\".format(column_name))\n",
      "/opt/anaconda3/lib/python3.8/site-packages/glue/core/data_factories/fits.py:152: UserWarning: Dropping column 'TCOLUMN' since it is not 1-dimensional\n",
      "  warnings.warn(\"Dropping column '{0}' since it is not 1-dimensional\".format(column_name))\n",
      "/opt/anaconda3/lib/python3.8/site-packages/glue/core/data_factories/fits.py:152: UserWarning: Dropping column 'THETA' since it is not 1-dimensional\n",
      "  warnings.warn(\"Dropping column '{0}' since it is not 1-dimensional\".format(column_name))\n",
      "/opt/anaconda3/lib/python3.8/site-packages/glue/core/data_factories/fits.py:152: UserWarning: Dropping column 'SN_MEDIAN' since it is not 1-dimensional\n",
      "  warnings.warn(\"Dropping column '{0}' since it is not 1-dimensional\".format(column_name))\n",
      "/opt/anaconda3/lib/python3.8/site-packages/glue/core/data_factories/fits.py:152: UserWarning: Dropping column 'FRACNSIGMA' since it is not 1-dimensional\n",
      "  warnings.warn(\"Dropping column '{0}' since it is not 1-dimensional\".format(column_name))\n",
      "/opt/anaconda3/lib/python3.8/site-packages/glue/core/data_factories/fits.py:152: UserWarning: Dropping column 'FRACNSIGHI' since it is not 1-dimensional\n",
      "  warnings.warn(\"Dropping column '{0}' since it is not 1-dimensional\".format(column_name))\n",
      "/opt/anaconda3/lib/python3.8/site-packages/glue/core/data_factories/fits.py:152: UserWarning: Dropping column 'FRACNSIGLO' since it is not 1-dimensional\n",
      "  warnings.warn(\"Dropping column '{0}' since it is not 1-dimensional\".format(column_name))\n",
      "/opt/anaconda3/lib/python3.8/site-packages/glue/core/data_factories/fits.py:152: UserWarning: Dropping column 'SPECTROFLUX' since it is not 1-dimensional\n",
      "  warnings.warn(\"Dropping column '{0}' since it is not 1-dimensional\".format(column_name))\n",
      "/opt/anaconda3/lib/python3.8/site-packages/glue/core/data_factories/fits.py:152: UserWarning: Dropping column 'SPECTROFLUX_IVAR' since it is not 1-dimensional\n",
      "  warnings.warn(\"Dropping column '{0}' since it is not 1-dimensional\".format(column_name))\n",
      "/opt/anaconda3/lib/python3.8/site-packages/glue/core/data_factories/fits.py:152: UserWarning: Dropping column 'SPECTROSYNFLUX' since it is not 1-dimensional\n",
      "  warnings.warn(\"Dropping column '{0}' since it is not 1-dimensional\".format(column_name))\n",
      "/opt/anaconda3/lib/python3.8/site-packages/glue/core/data_factories/fits.py:152: UserWarning: Dropping column 'SPECTROSYNFLUX_IVAR' since it is not 1-dimensional\n",
      "  warnings.warn(\"Dropping column '{0}' since it is not 1-dimensional\".format(column_name))\n",
      "/opt/anaconda3/lib/python3.8/site-packages/glue/core/data_factories/fits.py:152: UserWarning: Dropping column 'SPECTROSKYFLUX' since it is not 1-dimensional\n",
      "  warnings.warn(\"Dropping column '{0}' since it is not 1-dimensional\".format(column_name))\n",
      "/opt/anaconda3/lib/python3.8/site-packages/glue/core/data_factories/fits.py:152: UserWarning: Dropping column 'CALIBFLUX' since it is not 1-dimensional\n",
      "  warnings.warn(\"Dropping column '{0}' since it is not 1-dimensional\".format(column_name))\n",
      "/opt/anaconda3/lib/python3.8/site-packages/glue/core/data_factories/fits.py:152: UserWarning: Dropping column 'CALIBFLUX_IVAR' since it is not 1-dimensional\n",
      "  warnings.warn(\"Dropping column '{0}' since it is not 1-dimensional\".format(column_name))\n",
      "/opt/anaconda3/lib/python3.8/site-packages/glue/core/data_factories/fits.py:152: UserWarning: Dropping column 'OBJID' since it is not 1-dimensional\n",
      "  warnings.warn(\"Dropping column '{0}' since it is not 1-dimensional\".format(column_name))\n",
      "/opt/anaconda3/lib/python3.8/site-packages/glue/core/data_factories/fits.py:152: UserWarning: Dropping column 'TCOLUMN' since it is not 1-dimensional\n",
      "  warnings.warn(\"Dropping column '{0}' since it is not 1-dimensional\".format(column_name))\n",
      "/opt/anaconda3/lib/python3.8/site-packages/glue/core/data_factories/fits.py:152: UserWarning: Dropping column 'THETA' since it is not 1-dimensional\n",
      "  warnings.warn(\"Dropping column '{0}' since it is not 1-dimensional\".format(column_name))\n",
      "/opt/anaconda3/lib/python3.8/site-packages/glue/core/data_factories/fits.py:152: UserWarning: Dropping column 'SN_MEDIAN' since it is not 1-dimensional\n",
      "  warnings.warn(\"Dropping column '{0}' since it is not 1-dimensional\".format(column_name))\n",
      "/opt/anaconda3/lib/python3.8/site-packages/glue/core/data_factories/fits.py:152: UserWarning: Dropping column 'FRACNSIGMA' since it is not 1-dimensional\n",
      "  warnings.warn(\"Dropping column '{0}' since it is not 1-dimensional\".format(column_name))\n",
      "/opt/anaconda3/lib/python3.8/site-packages/glue/core/data_factories/fits.py:152: UserWarning: Dropping column 'FRACNSIGHI' since it is not 1-dimensional\n",
      "  warnings.warn(\"Dropping column '{0}' since it is not 1-dimensional\".format(column_name))\n",
      "/opt/anaconda3/lib/python3.8/site-packages/glue/core/data_factories/fits.py:152: UserWarning: Dropping column 'FRACNSIGLO' since it is not 1-dimensional\n",
      "  warnings.warn(\"Dropping column '{0}' since it is not 1-dimensional\".format(column_name))\n",
      "/opt/anaconda3/lib/python3.8/site-packages/glue/core/data_factories/fits.py:152: UserWarning: Dropping column 'SPECTROFLUX' since it is not 1-dimensional\n",
      "  warnings.warn(\"Dropping column '{0}' since it is not 1-dimensional\".format(column_name))\n",
      "/opt/anaconda3/lib/python3.8/site-packages/glue/core/data_factories/fits.py:152: UserWarning: Dropping column 'SPECTROFLUX_IVAR' since it is not 1-dimensional\n",
      "  warnings.warn(\"Dropping column '{0}' since it is not 1-dimensional\".format(column_name))\n",
      "/opt/anaconda3/lib/python3.8/site-packages/glue/core/data_factories/fits.py:152: UserWarning: Dropping column 'SPECTROSYNFLUX' since it is not 1-dimensional\n",
      "  warnings.warn(\"Dropping column '{0}' since it is not 1-dimensional\".format(column_name))\n",
      "/opt/anaconda3/lib/python3.8/site-packages/glue/core/data_factories/fits.py:152: UserWarning: Dropping column 'SPECTROSYNFLUX_IVAR' since it is not 1-dimensional\n",
      "  warnings.warn(\"Dropping column '{0}' since it is not 1-dimensional\".format(column_name))\n",
      "/opt/anaconda3/lib/python3.8/site-packages/glue/core/data_factories/fits.py:152: UserWarning: Dropping column 'SPECTROSKYFLUX' since it is not 1-dimensional\n",
      "  warnings.warn(\"Dropping column '{0}' since it is not 1-dimensional\".format(column_name))\n",
      "/opt/anaconda3/lib/python3.8/site-packages/glue/core/data_factories/fits.py:152: UserWarning: Dropping column 'CALIBFLUX' since it is not 1-dimensional\n",
      "  warnings.warn(\"Dropping column '{0}' since it is not 1-dimensional\".format(column_name))\n",
      "/opt/anaconda3/lib/python3.8/site-packages/glue/core/data_factories/fits.py:152: UserWarning: Dropping column 'CALIBFLUX_IVAR' since it is not 1-dimensional\n",
      "  warnings.warn(\"Dropping column '{0}' since it is not 1-dimensional\".format(column_name))\n"
     ]
    },
    {
     "name": "stderr",
     "output_type": "stream",
     "text": [
      "/opt/anaconda3/lib/python3.8/site-packages/glue/core/data_factories/fits.py:152: UserWarning: Dropping column 'OBJID' since it is not 1-dimensional\n",
      "  warnings.warn(\"Dropping column '{0}' since it is not 1-dimensional\".format(column_name))\n",
      "/opt/anaconda3/lib/python3.8/site-packages/glue/core/data_factories/fits.py:152: UserWarning: Dropping column 'TCOLUMN' since it is not 1-dimensional\n",
      "  warnings.warn(\"Dropping column '{0}' since it is not 1-dimensional\".format(column_name))\n",
      "/opt/anaconda3/lib/python3.8/site-packages/glue/core/data_factories/fits.py:152: UserWarning: Dropping column 'THETA' since it is not 1-dimensional\n",
      "  warnings.warn(\"Dropping column '{0}' since it is not 1-dimensional\".format(column_name))\n",
      "/opt/anaconda3/lib/python3.8/site-packages/glue/core/data_factories/fits.py:152: UserWarning: Dropping column 'SN_MEDIAN' since it is not 1-dimensional\n",
      "  warnings.warn(\"Dropping column '{0}' since it is not 1-dimensional\".format(column_name))\n",
      "/opt/anaconda3/lib/python3.8/site-packages/glue/core/data_factories/fits.py:152: UserWarning: Dropping column 'FRACNSIGMA' since it is not 1-dimensional\n",
      "  warnings.warn(\"Dropping column '{0}' since it is not 1-dimensional\".format(column_name))\n",
      "/opt/anaconda3/lib/python3.8/site-packages/glue/core/data_factories/fits.py:152: UserWarning: Dropping column 'FRACNSIGHI' since it is not 1-dimensional\n",
      "  warnings.warn(\"Dropping column '{0}' since it is not 1-dimensional\".format(column_name))\n",
      "/opt/anaconda3/lib/python3.8/site-packages/glue/core/data_factories/fits.py:152: UserWarning: Dropping column 'FRACNSIGLO' since it is not 1-dimensional\n",
      "  warnings.warn(\"Dropping column '{0}' since it is not 1-dimensional\".format(column_name))\n",
      "/opt/anaconda3/lib/python3.8/site-packages/glue/core/data_factories/fits.py:152: UserWarning: Dropping column 'SPECTROFLUX' since it is not 1-dimensional\n",
      "  warnings.warn(\"Dropping column '{0}' since it is not 1-dimensional\".format(column_name))\n",
      "/opt/anaconda3/lib/python3.8/site-packages/glue/core/data_factories/fits.py:152: UserWarning: Dropping column 'SPECTROFLUX_IVAR' since it is not 1-dimensional\n",
      "  warnings.warn(\"Dropping column '{0}' since it is not 1-dimensional\".format(column_name))\n",
      "/opt/anaconda3/lib/python3.8/site-packages/glue/core/data_factories/fits.py:152: UserWarning: Dropping column 'SPECTROSYNFLUX' since it is not 1-dimensional\n",
      "  warnings.warn(\"Dropping column '{0}' since it is not 1-dimensional\".format(column_name))\n",
      "/opt/anaconda3/lib/python3.8/site-packages/glue/core/data_factories/fits.py:152: UserWarning: Dropping column 'SPECTROSYNFLUX_IVAR' since it is not 1-dimensional\n",
      "  warnings.warn(\"Dropping column '{0}' since it is not 1-dimensional\".format(column_name))\n",
      "/opt/anaconda3/lib/python3.8/site-packages/glue/core/data_factories/fits.py:152: UserWarning: Dropping column 'SPECTROSKYFLUX' since it is not 1-dimensional\n",
      "  warnings.warn(\"Dropping column '{0}' since it is not 1-dimensional\".format(column_name))\n",
      "/opt/anaconda3/lib/python3.8/site-packages/glue/core/data_factories/fits.py:152: UserWarning: Dropping column 'CALIBFLUX' since it is not 1-dimensional\n",
      "  warnings.warn(\"Dropping column '{0}' since it is not 1-dimensional\".format(column_name))\n",
      "/opt/anaconda3/lib/python3.8/site-packages/glue/core/data_factories/fits.py:152: UserWarning: Dropping column 'CALIBFLUX_IVAR' since it is not 1-dimensional\n",
      "  warnings.warn(\"Dropping column '{0}' since it is not 1-dimensional\".format(column_name))\n",
      "/opt/anaconda3/lib/python3.8/site-packages/glue/core/data_factories/fits.py:152: UserWarning: Dropping column 'OBJID' since it is not 1-dimensional\n",
      "  warnings.warn(\"Dropping column '{0}' since it is not 1-dimensional\".format(column_name))\n",
      "/opt/anaconda3/lib/python3.8/site-packages/glue/core/data_factories/fits.py:152: UserWarning: Dropping column 'TCOLUMN' since it is not 1-dimensional\n",
      "  warnings.warn(\"Dropping column '{0}' since it is not 1-dimensional\".format(column_name))\n",
      "/opt/anaconda3/lib/python3.8/site-packages/glue/core/data_factories/fits.py:152: UserWarning: Dropping column 'THETA' since it is not 1-dimensional\n",
      "  warnings.warn(\"Dropping column '{0}' since it is not 1-dimensional\".format(column_name))\n",
      "/opt/anaconda3/lib/python3.8/site-packages/glue/core/data_factories/fits.py:152: UserWarning: Dropping column 'SN_MEDIAN' since it is not 1-dimensional\n",
      "  warnings.warn(\"Dropping column '{0}' since it is not 1-dimensional\".format(column_name))\n",
      "/opt/anaconda3/lib/python3.8/site-packages/glue/core/data_factories/fits.py:152: UserWarning: Dropping column 'FRACNSIGMA' since it is not 1-dimensional\n",
      "  warnings.warn(\"Dropping column '{0}' since it is not 1-dimensional\".format(column_name))\n",
      "/opt/anaconda3/lib/python3.8/site-packages/glue/core/data_factories/fits.py:152: UserWarning: Dropping column 'FRACNSIGHI' since it is not 1-dimensional\n",
      "  warnings.warn(\"Dropping column '{0}' since it is not 1-dimensional\".format(column_name))\n",
      "/opt/anaconda3/lib/python3.8/site-packages/glue/core/data_factories/fits.py:152: UserWarning: Dropping column 'FRACNSIGLO' since it is not 1-dimensional\n",
      "  warnings.warn(\"Dropping column '{0}' since it is not 1-dimensional\".format(column_name))\n",
      "/opt/anaconda3/lib/python3.8/site-packages/glue/core/data_factories/fits.py:152: UserWarning: Dropping column 'SPECTROFLUX' since it is not 1-dimensional\n",
      "  warnings.warn(\"Dropping column '{0}' since it is not 1-dimensional\".format(column_name))\n",
      "/opt/anaconda3/lib/python3.8/site-packages/glue/core/data_factories/fits.py:152: UserWarning: Dropping column 'SPECTROFLUX_IVAR' since it is not 1-dimensional\n",
      "  warnings.warn(\"Dropping column '{0}' since it is not 1-dimensional\".format(column_name))\n",
      "/opt/anaconda3/lib/python3.8/site-packages/glue/core/data_factories/fits.py:152: UserWarning: Dropping column 'SPECTROSYNFLUX' since it is not 1-dimensional\n",
      "  warnings.warn(\"Dropping column '{0}' since it is not 1-dimensional\".format(column_name))\n",
      "/opt/anaconda3/lib/python3.8/site-packages/glue/core/data_factories/fits.py:152: UserWarning: Dropping column 'SPECTROSYNFLUX_IVAR' since it is not 1-dimensional\n",
      "  warnings.warn(\"Dropping column '{0}' since it is not 1-dimensional\".format(column_name))\n",
      "/opt/anaconda3/lib/python3.8/site-packages/glue/core/data_factories/fits.py:152: UserWarning: Dropping column 'SPECTROSKYFLUX' since it is not 1-dimensional\n",
      "  warnings.warn(\"Dropping column '{0}' since it is not 1-dimensional\".format(column_name))\n",
      "/opt/anaconda3/lib/python3.8/site-packages/glue/core/data_factories/fits.py:152: UserWarning: Dropping column 'CALIBFLUX' since it is not 1-dimensional\n",
      "  warnings.warn(\"Dropping column '{0}' since it is not 1-dimensional\".format(column_name))\n",
      "/opt/anaconda3/lib/python3.8/site-packages/glue/core/data_factories/fits.py:152: UserWarning: Dropping column 'CALIBFLUX_IVAR' since it is not 1-dimensional\n",
      "  warnings.warn(\"Dropping column '{0}' since it is not 1-dimensional\".format(column_name))\n"
     ]
    }
   ],
   "source": [
    "from cosmicds.app import Application\n",
    "\n",
    "\n",
    "app = Application()\n",
    "app"
   ]
  },
  {
   "cell_type": "code",
   "execution_count": 10,
   "id": "75a76de3",
   "metadata": {},
   "outputs": [],
   "source": [
    "# to reload app.vue file without recompiling everything\n",
    "app.reload()"
   ]
  },
  {
   "cell_type": "code",
   "execution_count": null,
   "id": "fe3b11dc-e2df-41ae-b8cf-cb34d9861958",
   "metadata": {},
   "outputs": [],
   "source": []
  }
 ],
 "metadata": {
  "kernelspec": {
   "display_name": "Python 3 (ipykernel)",
   "language": "python",
   "name": "python3"
  },
  "language_info": {
   "codemirror_mode": {
    "name": "ipython",
    "version": 3
   },
   "file_extension": ".py",
   "mimetype": "text/x-python",
   "name": "python",
   "nbconvert_exporter": "python",
   "pygments_lexer": "ipython3",
   "version": "3.8.8"
  }
 },
 "nbformat": 4,
 "nbformat_minor": 5
}
